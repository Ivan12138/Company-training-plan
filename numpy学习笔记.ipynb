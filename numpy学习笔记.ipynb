{
 "cells": [
  {
   "cell_type": "markdown",
   "metadata": {},
   "source": [
    "# numpy学习笔记"
   ]
  },
  {
   "cell_type": "markdown",
   "metadata": {},
   "source": [
    "numpy：Numeric Python。是一种开源的数值计算扩展。这种工具可用来存储和处理大型矩阵"
   ]
  },
  {
   "cell_type": "markdown",
   "metadata": {},
   "source": [
    "## 一、Numpy创建"
   ]
  },
  {
   "cell_type": "markdown",
   "metadata": {},
   "source": [
    "1. arange()：为有序数列。 \n",
    "   eg： np.arange(1,10,2)其中第一位数字为‘起始数字’，第二位为‘终止数字’（不包括该数字），第三位数字为‘步长’即为间隔数。\n",
    "   \n",
    "2. linsapce：生成线段。\n",
    "    eg：linspace(1,10,5)前两位和上面一样，最后一位为数字个数。\n",
    "3. reshape(): 为改变shape"
   ]
  },
  {
   "cell_type": "code",
   "execution_count": 11,
   "metadata": {
    "collapsed": true
   },
   "outputs": [
    {
     "name": "stdout",
     "output_type": "stream",
     "text": [
      "[[1 3]\n",
      " [5 7]]\n"
     ]
    }
   ],
   "source": [
    "import numpy as np\n",
    "\n",
    "# a = np.array([1,23,4])\n",
    "# a = np.zeros((3,4))\n",
    "# a = np.ones((2,3))\n",
    "# a = np.arange(1,10,2)#创建矩阵\n",
    "# a = np.linspace(1,10,5)\n",
    "a = np.arange(1,9,2).reshape((2,2))\n",
    "\n",
    "print(a)"
   ]
  },
  {
   "cell_type": "markdown",
   "metadata": {},
   "source": [
    "## 二、numpy属性"
   ]
  },
  {
   "cell_type": "markdown",
   "metadata": {},
   "source": [
    "在numpy中，数组类为ndarray，其常用的属性如下：\n",
    "   * ndarray.ndim\n",
    "   即多维数组的维数。\n",
    "   * ndarray.shape\n",
    "   多维数组行、列数\n",
    "   * ndarray.size\n",
    "   多维数组的元素个数\n",
    "   * ndarray.dtype\n",
    "   多维数组的数据类型（包括int64/32、float64/32，数字越大，精度越高）"
   ]
  },
  {
   "cell_type": "code",
   "execution_count": 12,
   "metadata": {},
   "outputs": [
    {
     "name": "stdout",
     "output_type": "stream",
     "text": [
      "[[1 2 3]\n",
      " [2 3 4]]\n",
      "number of dim: 2\n",
      "shape: (2, 3)\n",
      "size: 6\n",
      "tpye: int32\n"
     ]
    }
   ],
   "source": [
    "import numpy as np\n",
    "\n",
    "a = np.array([[1,2,3],[2,3,4]])\n",
    "\n",
    "print(a)\n",
    "\n",
    "print('number of dim:',a.ndim)\n",
    "print('shape:',a.shape)\n",
    "print('size:',a.size)\n",
    "print('tpye:',a.dtype)"
   ]
  },
  {
   "cell_type": "markdown",
   "metadata": {},
   "source": [
    "## 三、numpy基础运算"
   ]
  },
  {
   "cell_type": "markdown",
   "metadata": {},
   "source": [
    "* 一个数的n次方表示为 b = a **n\n",
    "* 一个数的三角函数为 b = np.tan(a)\n",
    "* 该数的 '>','<','=='会出现 ‘T/F’ 情况"
   ]
  },
  {
   "cell_type": "code",
   "execution_count": 13,
   "metadata": {},
   "outputs": [
    {
     "name": "stdout",
     "output_type": "stream",
     "text": [
      "[ 0.64836083  2.23716094 -6.4053312  -1.11721493]\n",
      "[10 20 30 40]\n",
      "[False  True  True  True]\n"
     ]
    }
   ],
   "source": [
    "import numpy as np\n",
    "\n",
    "a = np.array([10,20,30,40])\n",
    "\n",
    "# b = a**2\n",
    "b = np.tan(a)\n",
    "print(b)\n",
    "print(a)\n",
    "print(a>10)"
   ]
  },
  {
   "cell_type": "markdown",
   "metadata": {},
   "source": [
    "### 乘法运算："
   ]
  },
  {
   "cell_type": "markdown",
   "metadata": {},
   "source": [
    "1.乘法区别:\n",
    "   *  a*b 为数的逐个相乘\n",
    "   * dot(a,b)为矩阵运算"
   ]
  },
  {
   "cell_type": "code",
   "execution_count": 14,
   "metadata": {},
   "outputs": [
    {
     "name": "stdout",
     "output_type": "stream",
     "text": [
      "[[0 1]\n",
      " [2 3]]\n",
      "[[0 1]\n",
      " [1 2]]\n",
      "----------------\n",
      "[[0 1]\n",
      " [2 6]]\n",
      "[[1 2]\n",
      " [3 8]]\n"
     ]
    }
   ],
   "source": [
    "import numpy as np\n",
    "\n",
    "a = np.arange(4).reshape(2,2)\n",
    "b = np.array([[0,1],[1,2]])\n",
    "\n",
    "c = a*b\n",
    "c_dot = np.dot(a,b) # c_dot2 = a.dot(b)\n",
    "\n",
    "print(a)\n",
    "print(b)\n",
    "print('----------------')\n",
    "print(c)\n",
    "print(c_dot)\n"
   ]
  },
  {
   "cell_type": "markdown",
   "metadata": {},
   "source": [
    "2.矩阵的属性:\n",
    "   * axis = 0是在每一列中进行操作，axis = 1表示在每一行中进行操作。**【修正】axis = i，则numpy沿着第i个下标变化的放下进行操作。** 即当axis=0，即numpy按照第0个下标变化方向进行操作，即沿着列向量进行操作。如果没有指定具体的axis，则定为axis最大数进行操作。\n",
    "   * argmin/argmax():表示最大/小数的索引\n",
    "   * median():表示中位数\n",
    "   * cumsum():表示数累加（当前数以及前面所有数累加和）\n",
    "   * diff():表示两个数差即为 i-(i-1)的值\n",
    "   * clip():表示比第一个数小的都为第一个数，比第二个数大的都为第二个数\n",
    "   * print(a[1,0:2])表示第一行，第0列到第2列（不包含第2列）元素"
   ]
  },
  {
   "cell_type": "code",
   "execution_count": 36,
   "metadata": {},
   "outputs": [
    {
     "name": "stdout",
     "output_type": "stream",
     "text": [
      "[[0.99190695 0.03774663 0.88891632]\n",
      " [0.07635337 0.02606829 0.61035743]]\n",
      "[[0.99190695 0.07635337]\n",
      " [0.03774663 0.02606829]\n",
      " [0.88891632 0.61035743]]\n",
      "[[0.5 0.1 0.5]\n",
      " [0.1 0.1 0.5]]\n",
      "[0.07635337 0.02606829]\n",
      "[0.99190695 0.03774663 0.88891632 0.07635337 0.02606829 0.61035743]\n"
     ]
    }
   ],
   "source": [
    "import numpy as np\n",
    "\n",
    "a = np.random.random((2,3))\n",
    "# a=np.random.rand((2,3))\n",
    "    \n",
    "\n",
    "print(a)\n",
    "# print('----------------')\n",
    "# print('sum:',np.sum(a,axis = 1))\n",
    "# print('max:',np.max(a,axis = 0))\n",
    "# print('min:',np.min(a,axis = 1))\n",
    "# print('----------------')\n",
    "# print('Minimum index:',np.argmin(a)) #a.argmin() \n",
    "# print('Maximum index:',np.argmax(a))\n",
    "# print('Average:',np.average(a))\n",
    "# print('Median：',np.median(a))\n",
    "# print('Cumsum:',np.cumsum(a))\n",
    "# print('----------------')\n",
    "# print(np.diff(a))\n",
    "# print(np.sort(a))\n",
    "print(np.transpose(a))# print((a.T))\n",
    "print(np.clip(a,0.1,0.5))\n",
    "print(a[1,0:2])\n",
    "print(a.flatten())"
   ]
  },
  {
   "cell_type": "markdown",
   "metadata": {},
   "source": [
    "#### array合并"
   ]
  },
  {
   "cell_type": "markdown",
   "metadata": {},
   "source": [
    "* [:,np.newaxis]是为了给数组增加一个维度\n",
    "* concatenate（）：是直接通过对axis值的设置来实现横向、竖向合并"
   ]
  },
  {
   "cell_type": "code",
   "execution_count": 34,
   "metadata": {},
   "outputs": [
    {
     "name": "stdout",
     "output_type": "stream",
     "text": [
      "[[1 1 1]\n",
      " [2 2 2]]\n",
      "[1 1 1 2 2 2]\n",
      "----------------\n",
      "----------------\n",
      "[1 1 1 2 2 2]\n"
     ]
    }
   ],
   "source": [
    "import numpy as np\n",
    "\n",
    "arr1=np.array([1,1,1])\n",
    "arr2=np.array([2,2,2])\n",
    "\n",
    "vs=np.vstack((arr1,arr2))   #vertical stack\n",
    "hs=np.hstack((arr1,arr2))   #horizontal stack\n",
    "print(vs)\n",
    "print(hs)\n",
    "print('----------------')\n",
    "\n",
    "# arr1_addDimen=arr1[:,np.newaxis]\n",
    "# arr2_addDimen=arr2[:,np.newaxis]\n",
    "\n",
    "# vs_d=np.vstack((arr1_addDimen,arr2_addDimen))  \n",
    "# hs_d=np.hstack((arr1_addDimen,arr2_addDimen))\n",
    "# print(vs_d)\n",
    "# print(hs_d)\n",
    "print('----------------')\n",
    "\n",
    "ccn=np.concatenate((arr1,arr2),axis=0)####\n",
    "print(ccn)"
   ]
  },
  {
   "cell_type": "markdown",
   "metadata": {},
   "source": [
    "#### array分割"
   ]
  },
  {
   "cell_type": "markdown",
   "metadata": {},
   "source": [
    "分割为均等分割：\n",
    "* 在axis=1时，表示为在水平方向进行分割\n",
    "* 而vsplit即为vertical split为在垂直方向进行分割"
   ]
  },
  {
   "cell_type": "code",
   "execution_count": 42,
   "metadata": {},
   "outputs": [
    {
     "name": "stdout",
     "output_type": "stream",
     "text": [
      "[[ 0  1  2  3]\n",
      " [ 4  5  6  7]\n",
      " [ 8  9 10 11]]\n",
      "[array([[0, 1, 2, 3]]), array([[4, 5, 6, 7]]), array([[ 8,  9, 10, 11]])]\n"
     ]
    }
   ],
   "source": [
    "import numpy as np\n",
    "a=np.arange(12).reshape(3,4)\n",
    "print(a)\n",
    "\n",
    "c=np.split(a,3,axis=0) \n",
    "# c=np.array_split(a,3,axis=0) #实现不均等分割\n",
    "print(c)\n",
    "\n",
    "print(np.vsplit(a,3)) "
   ]
  },
  {
   "cell_type": "markdown",
   "metadata": {},
   "source": [
    "#### 赋值（copy&deep copy）"
   ]
  },
  {
   "cell_type": "markdown",
   "metadata": {},
   "source": [
    "如果用“=”，即表示建立联系的相等，a中数据改变，相等的b中数据也会改变。而 copy（）则只会将数值赋值过去，不会建立联系"
   ]
  },
  {
   "cell_type": "code",
   "execution_count": 46,
   "metadata": {},
   "outputs": [
    {
     "name": "stdout",
     "output_type": "stream",
     "text": [
      "a: [1 2 3 4]\n",
      "--------更改数据后输出-------\n",
      "a: [11  2  3  4]\n",
      "b: [1 2 3 4]\n"
     ]
    },
    {
     "data": {
      "text/plain": [
       "False"
      ]
     },
     "execution_count": 46,
     "metadata": {},
     "output_type": "execute_result"
    }
   ],
   "source": [
    "import numpy as np\n",
    "a=np.array([1,2,3,4])\n",
    "# b=a #copy\n",
    "b=a.copy() #deep copy\n",
    "print('a:',a)\n",
    "print('--------更改数据后输出-------')\n",
    "a[0]=11\n",
    "\n",
    "print('a:',a)\n",
    "print('b:',b)\n",
    "b is a #判断a、b是相等"
   ]
  }
 ],
 "metadata": {
  "kernelspec": {
   "display_name": "Python 3",
   "language": "python",
   "name": "python3"
  },
  "language_info": {
   "codemirror_mode": {
    "name": "ipython",
    "version": 3
   },
   "file_extension": ".py",
   "mimetype": "text/x-python",
   "name": "python",
   "nbconvert_exporter": "python",
   "pygments_lexer": "ipython3",
   "version": "3.7.3"
  }
 },
 "nbformat": 4,
 "nbformat_minor": 2
}
