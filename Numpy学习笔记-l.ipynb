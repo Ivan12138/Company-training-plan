{
 "cells": [
  {
   "cell_type": "markdown",
   "metadata": {},
   "source": [
    "# Numpy学习笔记\n",
    "\n",
    "\n",
    "![numpy插图](https://extraimage.net/images/2019/09/23/5ac6e9d90002903efacacdcb8182b8ed.png)\n",
    "\n",
    " 1. Numpy是什么\n",
    " \n",
    " 2. 引入Numpy的原因是什么\n",
    " \n",
    " 3. ndarry简介\n",
    " \n",
    " 4. 数组的创建\n",
    " \n",
    " 5. 数组的操作\n",
    " \n",
    " 6. 随机模块\n",
    " \n",
    " 7. 统计模块\n"
   ]
  },
  {
   "cell_type": "markdown",
   "metadata": {},
   "source": [
    "## 1. Numpy的概念\n",
    "\n",
    "Numpy是python中开源的用于进行科学计算库，主要包括多维数组与矩阵的运算，具体包含四部分内容：\n",
    "\n",
    "- 高效的数组对象ndarry\n",
    "- 支持高效数组运算的操作（可以将数据对象做一个数据进行操作）\n",
    "- 提供了C/C++,fortran接口，速度更快\n",
    "- 包含统计，随机数等模块，是其他数据分析开源库的基础"
   ]
  },
  {
   "cell_type": "markdown",
   "metadata": {},
   "source": [
    "# 2. 引入Numpy的原因\n",
    "\n",
    "在python中包含了List，为什么要设计与实现numpy呢？原因主要体现在两个方面：\n",
    "\n",
    "- list中的数据类型各种各样，在python中为了支持类型不固定的数据类型，是在速度和存储做了折中，ndarry要求数组中的每一个元素必须为同一种类型，无论速度和还是存储都比List性能好；\n",
    "- 引入numpy的目的是为了大规模计算，要求对程序的规模与运行速度能够预测；\n"
   ]
  },
  {
   "cell_type": "markdown",
   "metadata": {},
   "source": [
    "# 3. ndarray对象\n",
    "\n",
    "ndarray是numpy中的高效数组对象，其主要由两部分组成：\n",
    " - np.array:实际的数组数据；\n",
    " - 元数据：用来描述np.array的数据；\n",
    " \n",
    " 具体的元数据包括：\n",
    " \n",
    " - axes:轴，用于说明数据是从几个为维度展开，举例来说，一个数值代表一个对象的某一个属性，比如179代表我的身高，而一维数组代表对我各个方面的描述，二维数据代表若干人的描述，三维数据表示从另外一个维度对这些人的描述，比如时间维度，2017年，2018年，2019年关于这些人的描述。\n",
    " - rank:秩，表示轴的数目，在线性代数里面学过，代表线性独立的数据轴的数目；\n",
    " - ndim:轴的数目\n",
    " - shape:数组的形状\n",
    " - dtype:数组的数据类型，除了np.arange函数外，其他函数创建的数据类型默认为float类型；\n",
    " - size：数组中元素的个数；\n",
    " - itemsize：数组中每个元素的大小；\n"
   ]
  },
  {
   "cell_type": "code",
   "execution_count": 28,
   "metadata": {},
   "outputs": [
    {
     "name": "stdout",
     "output_type": "stream",
     "text": [
      "[[1 2]\n",
      " [2 4]]\n",
      "(2, 2)\n",
      "2\n",
      "4\n",
      "int32\n"
     ]
    }
   ],
   "source": [
    "import numpy as np\n",
    "\n",
    "a=np.arange(1,90)\n",
    "print(a)\n",
    "print(a.shape)\n",
    "print(a.ndim)\n",
    "print(a.size)\n",
    "print(a.dtype)"
   ]
  },
  {
   "cell_type": "markdown",
   "metadata": {},
   "source": [
    "# 4. 数组的创建"
   ]
  },
  {
   "cell_type": "code",
   "execution_count": 1,
   "metadata": {},
   "outputs": [
    {
     "name": "stdout",
     "output_type": "stream",
     "text": [
      "[1 2 3 4 5]\n",
      "int32\n"
     ]
    }
   ],
   "source": [
    "#到如numpy库\n",
    "\n",
    "import numpy as np\n",
    "\n",
    "#基本数组的创建语法\n",
    "# np.array(list/turple,dtype=\"datatype\")\n",
    "#如果没有指定类型，默认为int32\n",
    "\n",
    "ex1=np.array([1,2,3,4,5])\n",
    "print(ex1)\n",
    "print(ex1.dtype)"
   ]
  },
  {
   "cell_type": "code",
   "execution_count": 34,
   "metadata": {},
   "outputs": [
    {
     "name": "stdout",
     "output_type": "stream",
     "text": [
      "[1.2 2.  3.  4.  5. ]\n",
      "float64\n"
     ]
    }
   ],
   "source": [
    "ex2=np.array(1.2,2,3,4,5)\n",
    "print(ex2)\n",
    "print(ex2.dtype)"
   ]
  },
  {
   "cell_type": "markdown",
   "metadata": {},
   "source": [
    "除了上述方法，numpy还提供了一系列函数帮助我们快速创建数组：\n",
    "\n",
    "- numpy.arange(start,end,step):类似于python中的range函数，产生的值不包括end；\n",
    "- numpy.linspace(start,end,num，endpoint=true):在start-end之间产生一个等差数列；\n",
    "- numpy.logspace(start,end,num):在start-end产生一个等比数组\n"
   ]
  },
  {
   "cell_type": "code",
   "execution_count": 7,
   "metadata": {},
   "outputs": [
    {
     "name": "stdout",
     "output_type": "stream",
     "text": [
      "arange:\n",
      "[ 1  3  5  7  9 11 13 15 17 19]\n",
      "int32\n",
      "linspace include the last point:\n",
      "[  1.           4.4137931    7.82758621  11.24137931  14.65517241\n",
      "  18.06896552  21.48275862  24.89655172  28.31034483  31.72413793\n",
      "  35.13793103  38.55172414  41.96551724  45.37931034  48.79310345\n",
      "  52.20689655  55.62068966  59.03448276  62.44827586  65.86206897\n",
      "  69.27586207  72.68965517  76.10344828  79.51724138  82.93103448\n",
      "  86.34482759  89.75862069  93.17241379  96.5862069  100.        ]\n",
      "linspace not include the last point:\n",
      "[ 1.   4.3  7.6 10.9 14.2 17.5 20.8 24.1 27.4 30.7 34.  37.3 40.6 43.9\n",
      " 47.2 50.5 53.8 57.1 60.4 63.7 67.  70.3 73.6 76.9 80.2 83.5 86.8 90.1\n",
      " 93.4 96.7]\n",
      "logspace\n",
      "[1.e+001 1.e+012 1.e+023 1.e+034 1.e+045 1.e+056 1.e+067 1.e+078 1.e+089\n",
      " 1.e+100]\n"
     ]
    }
   ],
   "source": [
    "import numpy as np\n",
    "\n",
    "ex1=np.arange(1,20,2)\n",
    "print(\"arange:\")\n",
    "print(ex1)\n",
    "print(ex1.dtype)\n",
    "\n",
    "ex2=np.linspace(1,100,30)\n",
    "print(\"linspace include the last point:\")\n",
    "print(ex2)\n",
    "\n",
    "#创建等差数列\n",
    "ex3=np.linspace(1,100,30,endpoint=False)\n",
    "print(\"linspace not include the last point:\")\n",
    "print(ex3)\n",
    "\n",
    "#创建等比数列\n",
    "ex4=np.logspace(1,100,10)\n",
    "print(\"logspace\")\n",
    "print(ex4)"
   ]
  },
  {
   "cell_type": "markdown",
   "metadata": {},
   "source": [
    "numpy还提供了函数用于创建特殊的数组：\n",
    "\n",
    "- numpy.ones(shape):创建全1 数组，shape用于表示数组形状的元祖\n",
    "- numpy.zeros(shape):创建全0数组；\n",
    "- numpy.full(shape,val):创建值为val的数组；\n",
    "- numpy.eyes(n):创建维度为n的对角矩阵"
   ]
  },
  {
   "cell_type": "code",
   "execution_count": 9,
   "metadata": {},
   "outputs": [
    {
     "name": "stdout",
     "output_type": "stream",
     "text": [
      "[[1. 1. 1. 1.]\n",
      " [1. 1. 1. 1.]\n",
      " [1. 1. 1. 1.]]\n",
      "[[0. 0. 0. 0. 0.]\n",
      " [0. 0. 0. 0. 0.]]\n",
      "[[4 4]\n",
      " [4 4]\n",
      " [4 4]]\n",
      "[[1. 0. 0.]\n",
      " [0. 1. 0.]\n",
      " [0. 0. 1.]]\n"
     ]
    }
   ],
   "source": [
    "import numpy as np\n",
    "\n",
    "one=np.ones((3,4))\n",
    "zero=np.zeros((2,5))\n",
    "arr=np.full((3,2),4)\n",
    "#创建对角阵\n",
    "dim=np.eye(3)\n",
    "\n",
    "print(one)\n",
    "print(zero)\n",
    "print(arr)\n",
    "print(dim)"
   ]
  },
  {
   "cell_type": "markdown",
   "metadata": {},
   "source": [
    "上述函数还有一种能根据参考数组的形状产生特殊数组的函数：\n",
    "\n",
    "- np.ones_like(a):根据数组a的形状产生对应的全1数组；\n",
    "- np.zeros_like(a):根据数组a的形状产生对应的全0数组\n",
    "- np.full_like(a,val):根据数组a的形状产生值全为Val的数组"
   ]
  },
  {
   "cell_type": "code",
   "execution_count": 61,
   "metadata": {},
   "outputs": [
    {
     "name": "stdout",
     "output_type": "stream",
     "text": [
      "[[[ 1  2  3  4]\n",
      "  [ 5  6  7  8]\n",
      "  [ 9 10 11 12]]\n",
      "\n",
      " [[13 14 15 16]\n",
      "  [17 18 19 20]\n",
      "  [21 22 23 24]]]\n",
      "[[[1 1 1 1]\n",
      "  [1 1 1 1]\n",
      "  [1 1 1 1]]\n",
      "\n",
      " [[1 1 1 1]\n",
      "  [1 1 1 1]\n",
      "  [1 1 1 1]]]\n",
      "[[[0 0 0 0]\n",
      "  [0 0 0 0]\n",
      "  [0 0 0 0]]\n",
      "\n",
      " [[0 0 0 0]\n",
      "  [0 0 0 0]\n",
      "  [0 0 0 0]]]\n",
      "[[[3 3 3 3]\n",
      "  [3 3 3 3]\n",
      "  [3 3 3 3]]\n",
      "\n",
      " [[3 3 3 3]\n",
      "  [3 3 3 3]\n",
      "  [3 3 3 3]]]\n"
     ]
    }
   ],
   "source": [
    "import numpy as np\n",
    "\n",
    "a=np.arange(1,25)\n",
    "b=a.reshape(2,3,4)\n",
    "print(b)\n",
    "# 从这个部分可以看高维数组的表示，最后的坐标的粒度最细，表示数组原子元素的维度，用来表示元素列的维度\n",
    "\n",
    "one=np.ones_like(b)\n",
    "zero=np.zeros_like(b)\n",
    "arr=np.full_like(b,3)\n",
    "\n",
    "print(one)\n",
    "print(zero)\n",
    "print(arr)"
   ]
  },
  {
   "cell_type": "markdown",
   "metadata": {},
   "source": [
    "## 通过from 函数创建数组\n",
    "\n",
    "#### 1. numpy.frombuffer 用于实现动态数组。\n",
    "\n",
    "#### 2. numpy.frombuffer 接受 buffer 输入参数，以流的形式读入转化成 ndarray 对象。"
   ]
  },
  {
   "cell_type": "code",
   "execution_count": 13,
   "metadata": {},
   "outputs": [
    {
     "name": "stdout",
     "output_type": "stream",
     "text": [
      "[b'H' b'e' b'l' b'l' b'o' b' ' b'W' b'o' b'r' b'l' b'd']\n"
     ]
    }
   ],
   "source": [
    "import numpy as np \n",
    "#b表示字节流\n",
    "s =  b'Hello World' \n",
    "a = np.frombuffer(s, dtype =  'S1')  \n",
    "print (a)"
   ]
  },
  {
   "cell_type": "markdown",
   "metadata": {},
   "source": [
    "#### 3.numpy.fromiter 方法从可迭代对象中建立 ndarray 对象，返回一维数组。"
   ]
  },
  {
   "cell_type": "code",
   "execution_count": 2,
   "metadata": {},
   "outputs": [
    {
     "name": "stdout",
     "output_type": "stream",
     "text": [
      "[0. 1. 2. 3. 4.]\n"
     ]
    }
   ],
   "source": [
    "import numpy as np \n",
    " \n",
    "# 使用 range 函数创建列表对象  \n",
    "list=range(5)\n",
    "it=iter(list)\n",
    " \n",
    "# 使用迭代器创建 ndarray \n",
    "x=np.fromiter(it, dtype=float)\n",
    "print(x)"
   ]
  },
  {
   "cell_type": "markdown",
   "metadata": {},
   "source": [
    "#### 4. 从函数中获取数据处理：fromfunction(function,shape,dtype ) \n",
    "\n",
    " ```python\n",
    "    \n",
    "    def function(x,y):\n",
    "        对x,y进行操作，x 表示shape元素的行坐标，y表示列坐标\n",
    " \n",
    "  ```  \n",
    "    \n",
    "    `"
   ]
  },
  {
   "cell_type": "code",
   "execution_count": 6,
   "metadata": {},
   "outputs": [
    {
     "name": "stdout",
     "output_type": "stream",
     "text": [
      "[[0. 3.]\n",
      " [1. 4.]\n",
      " [2. 5.]]\n"
     ]
    }
   ],
   "source": [
    "import numpy as np\n",
    "\n",
    "def test(x,y):\n",
    "    return 3*y+x\n",
    "\n",
    "a=np.fromfunction(test,(3,2),dtype=np.float32)\n",
    "print(a)"
   ]
  },
  {
   "cell_type": "markdown",
   "metadata": {},
   "source": [
    "#### 5. fromstring（string，dtype，count，sep）"
   ]
  },
  {
   "cell_type": "code",
   "execution_count": 9,
   "metadata": {},
   "outputs": [
    {
     "name": "stdout",
     "output_type": "stream",
     "text": [
      "[1 2 3 4]\n"
     ]
    }
   ],
   "source": [
    "import numpy as np\n",
    "\n",
    "a=np.fromstring(\"1,2,3,4\",dtype=np.int32,sep=\",\")\n",
    "print(a)"
   ]
  },
  {
   "cell_type": "markdown",
   "metadata": {},
   "source": [
    "# 4. Numpy中数据的运算\n",
    "\n",
    "   ## 4.1 索引、切片与索引布尔数组\n",
    "   \n",
    "   >**索引**用于获取数组中的一个元素；**切片**用于获取数组中子集；\n",
    "   >索引数组是在数组中指定数组的索引构建一个新数组，布尔数组，是通过将对应的索引的值为TRUE和FALSE选择索引值为True的数组。\n",
    "   \n",
    "   ## 4.2 数组中的广播运算\n",
    "   <br> \n",
    "   在numpy中的数组运算时针对数组中的每一个元素的。如果数组中形状不同，numpy会根据数据的维度判断是否可以进行计算，并对数组的维度进行对应的变化，这种机制称为***广播***。\n",
    "   \n",
    "   >**广播**是numpy中针对不同维度数组进行计算的方式，可以将数组当做一个变量进行处理；\n",
    "   > **广播的基本原则**：如果两个数组的后缘维度（trailing dimension，即从末尾开始算起的维度）的轴长度相同，或其中的一方的长度为1，则认为它们是广播兼容的。广播会在缺失和（或）长度为1的维度上进行。（**利用广播进行计算的前提**）\n",
    "   \n",
    "   "
   ]
  },
  {
   "cell_type": "code",
   "execution_count": 39,
   "metadata": {},
   "outputs": [
    {
     "name": "stdout",
     "output_type": "stream",
     "text": [
      "[ 1.          1.09090909  1.18181818  1.27272727  1.36363636  1.45454545\n",
      "  1.54545455  1.63636364  1.72727273  1.81818182  1.90909091  2.\n",
      "  2.09090909  2.18181818  2.27272727  2.36363636  2.45454545  2.54545455\n",
      "  2.63636364  2.72727273  2.81818182  2.90909091  3.          3.09090909\n",
      "  3.18181818  3.27272727  3.36363636  3.45454545  3.54545455  3.63636364\n",
      "  3.72727273  3.81818182  3.90909091  4.          4.09090909  4.18181818\n",
      "  4.27272727  4.36363636  4.45454545  4.54545455  4.63636364  4.72727273\n",
      "  4.81818182  4.90909091  5.          5.09090909  5.18181818  5.27272727\n",
      "  5.36363636  5.45454545  5.54545455  5.63636364  5.72727273  5.81818182\n",
      "  5.90909091  6.          6.09090909  6.18181818  6.27272727  6.36363636\n",
      "  6.45454545  6.54545455  6.63636364  6.72727273  6.81818182  6.90909091\n",
      "  7.          7.09090909  7.18181818  7.27272727  7.36363636  7.45454545\n",
      "  7.54545455  7.63636364  7.72727273  7.81818182  7.90909091  8.\n",
      "  8.09090909  8.18181818  8.27272727  8.36363636  8.45454545  8.54545455\n",
      "  8.63636364  8.72727273  8.81818182  8.90909091  9.          9.09090909\n",
      "  9.18181818  9.27272727  9.36363636  9.45454545  9.54545455  9.63636364\n",
      "  9.72727273  9.81818182  9.90909091 10.        ]\n"
     ]
    }
   ],
   "source": [
    "# 针对一维数组的四种方式\n",
    "\n",
    "# index\n",
    "import numpy as np\n",
    "\n",
    "a=np.linspace(1,10,100,endpoint=True)\n",
    "print(a)"
   ]
  },
  {
   "cell_type": "code",
   "execution_count": 8,
   "metadata": {
    "scrolled": true
   },
   "outputs": [
    {
     "name": "stdout",
     "output_type": "stream",
     "text": [
      "1.2727272727272727\n"
     ]
    }
   ],
   "source": [
    "print(a[3])"
   ]
  },
  {
   "cell_type": "code",
   "execution_count": 20,
   "metadata": {},
   "outputs": [
    {
     "name": "stdout",
     "output_type": "stream",
     "text": [
      "[1.36363636 1.54545455]\n"
     ]
    }
   ],
   "source": [
    "#2 slice\n",
    "\n",
    "print(a[4:8:2])"
   ]
  },
  {
   "cell_type": "code",
   "execution_count": 42,
   "metadata": {},
   "outputs": [
    {
     "name": "stdout",
     "output_type": "stream",
     "text": [
      "[1.18181818 1.45454545 1.72727273 1.81818182]\n"
     ]
    }
   ],
   "source": [
    "print(a[[2,5,8,9]])\n"
   ]
  },
  {
   "cell_type": "code",
   "execution_count": 51,
   "metadata": {},
   "outputs": [
    {
     "name": "stdout",
     "output_type": "stream",
     "text": [
      "[ 5.09090909  5.18181818  5.27272727  5.36363636  5.45454545  5.54545455\n",
      "  5.63636364  5.72727273  5.81818182  5.90909091  6.          6.09090909\n",
      "  6.18181818  6.27272727  6.36363636  6.45454545  6.54545455  6.63636364\n",
      "  6.72727273  6.81818182  6.90909091  7.          7.09090909  7.18181818\n",
      "  7.27272727  7.36363636  7.45454545  7.54545455  7.63636364  7.72727273\n",
      "  7.81818182  7.90909091  8.          8.09090909  8.18181818  8.27272727\n",
      "  8.36363636  8.45454545  8.54545455  8.63636364  8.72727273  8.81818182\n",
      "  8.90909091  9.          9.09090909  9.18181818  9.27272727  9.36363636\n",
      "  9.45454545  9.54545455  9.63636364  9.72727273  9.81818182  9.90909091\n",
      " 10.        ]\n"
     ]
    }
   ],
   "source": [
    "print(a[a>5])"
   ]
  },
  {
   "cell_type": "code",
   "execution_count": 49,
   "metadata": {},
   "outputs": [
    {
     "name": "stdout",
     "output_type": "stream",
     "text": [
      "[ 4 10]\n"
     ]
    }
   ],
   "source": [
    "arr = np.array([\n",
    "    [1, 2, 3, 4],\n",
    "    [5, 6, 7, 8],\n",
    "    [9, 10, 11, 12],\n",
    "    [13, 14, 15, 16]\n",
    "])\n",
    "\n",
    "print(arr[[0, 2], [3, 1]])"
   ]
  },
  {
   "cell_type": "code",
   "execution_count": 52,
   "metadata": {},
   "outputs": [
    {
     "name": "stdout",
     "output_type": "stream",
     "text": [
      "[[0.20331011 0.98399475]\n",
      " [0.38931678 0.65575899]\n",
      " [0.58229647 0.52749253]]\n"
     ]
    }
   ],
   "source": [
    "# 针对多维数组\n",
    "\n",
    "import numpy as np\n",
    "\n",
    "a=np.random.rand(3,2)\n",
    "print(a)"
   ]
  },
  {
   "cell_type": "code",
   "execution_count": 53,
   "metadata": {},
   "outputs": [
    {
     "name": "stdout",
     "output_type": "stream",
     "text": [
      "0.3893167799987016\n"
     ]
    }
   ],
   "source": [
    "# get the value for row 2 col 1\n",
    "print(a[1][0])"
   ]
  },
  {
   "cell_type": "code",
   "execution_count": 27,
   "metadata": {},
   "outputs": [
    {
     "name": "stdout",
     "output_type": "stream",
     "text": [
      "[0.38448499 0.85902976]\n"
     ]
    }
   ],
   "source": [
    "# get the data for row 2\n",
    "print(a[1])"
   ]
  },
  {
   "cell_type": "code",
   "execution_count": 57,
   "metadata": {},
   "outputs": [
    {
     "name": "stdout",
     "output_type": "stream",
     "text": [
      "[0.20331011 0.38931678]\n"
     ]
    }
   ],
   "source": [
    "#get the multiple value from the n dimension array\n",
    "print(a[[0,1],[0,0]])"
   ]
  },
  {
   "cell_type": "code",
   "execution_count": 1,
   "metadata": {},
   "outputs": [
    {
     "name": "stdout",
     "output_type": "stream",
     "text": [
      "[[0.42028741 0.8516595  0.05605892 0.72219776]\n",
      " [0.24657944 0.34267462 0.80547098 0.70231663]\n",
      " [0.09464718 0.3934979  0.10107376 0.5001303 ]]\n",
      "[[19 19 10 11]\n",
      " [19 17 18 19]\n",
      " [13 13 13 13]]\n",
      "[[19.42028741 19.8516595  10.05605892 11.72219776]\n",
      " [19.24657944 17.34267462 18.80547098 19.70231663]\n",
      " [13.09464718 13.3934979  13.10107376 13.5001303 ]]\n",
      "[[-18.57971259 -18.1483405   -9.94394108 -10.27780224]\n",
      " [-18.75342056 -16.65732538 -17.19452902 -18.29768337]\n",
      " [-12.90535282 -12.6065021  -12.89892624 -12.4998697 ]]\n",
      "[[ 7.98546075 16.18153049  0.56058919  7.94417534]\n",
      " [ 4.68500943  5.82546848 14.49847762 13.34401604]\n",
      " [ 1.23041335  5.11547264  1.31395885  6.50169393]]\n"
     ]
    }
   ],
   "source": [
    "# 相同维度数组的运算，相同位置的数据进行对应的计算\n",
    "\n",
    "import numpy as np\n",
    "\n",
    "a=np.random.rand(3,4)\n",
    "b=np.random.randint(10,20,(3,4))\n",
    "\n",
    "print(a)\n",
    "print(b)\n",
    "print(a+b)\n",
    "print(a-b)\n",
    "print(a*b)\n"
   ]
  },
  {
   "cell_type": "code",
   "execution_count": 15,
   "metadata": {},
   "outputs": [
    {
     "name": "stdout",
     "output_type": "stream",
     "text": [
      "[[1 2 3]\n",
      " [2 3 4]\n",
      " [3 4 5]\n",
      " [4 5 6]]\n"
     ]
    }
   ],
   "source": [
    "# 广播实现的两种方式，第一种方式，末尾维度相同，从高维维度开始拓展\n",
    "#二维数组实例\n",
    "\n",
    "import numpy as np\n",
    "\n",
    "arr1 = np.array([[0, 0, 0],[1, 1, 1],[2, 2, 2], [3, 3, 3]])  #arr1.shape = (4,3)\n",
    "arr2 = np.array([1, 2, 3])    #arr2.shape = (3,)，将2，变为（4，3）[[1,2,3],[1,2,3],[1,2,3],[1,2,3]]\n",
    "arr_sum = arr1 + arr2\n",
    "print(arr_sum)"
   ]
  },
  {
   "cell_type": "code",
   "execution_count": 13,
   "metadata": {},
   "outputs": [
    {
     "name": "stdout",
     "output_type": "stream",
     "text": [
      "[[ 0.67111046 -1.41533672 -2.09009073 -1.1762139 ]]\n",
      "[[ 0.26757603 -0.13783438 -0.95699256  0.76363056]\n",
      " [ 0.91238975 -0.4221415  -0.0652326  -0.29567624]\n",
      " [ 2.30052087 -1.17605494 -1.06132699 -1.20189946]]\n",
      "[[ 0.9386865  -1.55317111 -3.04708329 -0.41258334]\n",
      " [ 1.58350021 -1.83747822 -2.15532333 -1.47189014]\n",
      " [ 2.97163134 -2.59139166 -3.15141772 -2.37811336]]\n"
     ]
    }
   ],
   "source": [
    "# 广播中的另外一种方式，如果有一维维度为为1，其他维度相同，对维度1的数组进行拓展\n",
    "\n",
    "import numpy as np\n",
    "\n",
    "a=np.random.randn(1,4)\n",
    "b=np.random.randn(3,4)\n",
    "\n",
    "print(a)\n",
    "print(b)\n",
    "\n",
    "print(a+b)"
   ]
  },
  {
   "cell_type": "code",
   "execution_count": 3,
   "metadata": {},
   "outputs": [
    {
     "name": "stdout",
     "output_type": "stream",
     "text": [
      "[[[-0.94077213 -0.64688278]\n",
      "  [ 0.91642672 -1.31137695]\n",
      "  [ 0.43728059  0.86566942]\n",
      "  [-2.26786714 -1.41037685]]\n",
      "\n",
      " [[-0.42424062 -0.09159797]\n",
      "  [ 0.87892375  0.2159187 ]\n",
      "  [-0.03286496  1.04231992]\n",
      "  [ 0.96743734 -0.486036  ]]\n",
      "\n",
      " [[ 0.42200189 -2.3140654 ]\n",
      "  [-1.3561921  -0.56222613]\n",
      "  [-1.42749434 -3.31607243]\n",
      "  [-0.897314    0.78257809]]]\n",
      "[[15 19]\n",
      " [17 18]\n",
      " [12 14]\n",
      " [18 10]]\n",
      "[[[14.05922787 18.35311722]\n",
      "  [17.91642672 16.68862305]\n",
      "  [12.43728059 14.86566942]\n",
      "  [15.73213286  8.58962315]]\n",
      "\n",
      " [[14.57575938 18.90840203]\n",
      "  [17.87892375 18.2159187 ]\n",
      "  [11.96713504 15.04231992]\n",
      "  [18.96743734  9.513964  ]]\n",
      "\n",
      " [[15.42200189 16.6859346 ]\n",
      "  [15.6438079  17.43777387]\n",
      "  [10.57250566 10.68392757]\n",
      "  [17.102686   10.78257809]]]\n"
     ]
    }
   ],
   "source": [
    "# 高维数组实例\n",
    "\n",
    "import numpy as np\n",
    "\n",
    "a=np.random.randn(3,4,2)\n",
    "b=np.random.randint(10,20,(4,2))\n",
    "\n",
    "print(a)\n",
    "print(b)\n",
    "print(a+b)\n"
   ]
  },
  {
   "cell_type": "markdown",
   "metadata": {},
   "source": [
    "   ## 4.3 数组的拼接操作\n",
    "   \n",
    "   ## 4.4 矩阵操作\n",
    "\n",
    "**索引**用于获取数组中具体的一个元素，如x\\[index\\](一维数组), x\\[index1,index2,...indexn\\](n维数组)\n",
    "同Python中的列表一样支持正负索引"
   ]
  },
  {
   "cell_type": "code",
   "execution_count": 20,
   "metadata": {},
   "outputs": [
    {
     "name": "stdout",
     "output_type": "stream",
     "text": [
      "7\n",
      "19\n",
      "[[[ 1.01953518 -1.35332363 -0.30186859 -1.04252611]\n",
      "  [-1.9910355   0.08246083 -2.1331832  -0.45697969]\n",
      "  [ 0.76134887 -0.83231473  0.65087906  0.17090254]]\n",
      "\n",
      " [[ 1.56251309 -1.00710907 -0.3995578  -2.01981917]\n",
      "  [ 1.51850561  0.83657977  1.42559744  1.42173064]\n",
      "  [-0.87950453 -0.99486215 -1.73761466 -0.52022157]]]\n",
      "1.0195351812681943\n"
     ]
    }
   ],
   "source": [
    "import numpy as np\n",
    "\n",
    "\n",
    "arr=np.arange(1,20,2)\n",
    "print(arr[3])\n",
    "print(arr[-1])\n",
    "\n",
    "a=np.random.randn(2,3,4)\n",
    "b=a[0,0,0]\n",
    "print(a)\n",
    "print(b)"
   ]
  },
  {
   "cell_type": "markdown",
   "metadata": {},
   "source": [
    "**在多维数组中，索引比维度少，则获取一个子数组**"
   ]
  },
  {
   "cell_type": "code",
   "execution_count": 4,
   "metadata": {},
   "outputs": [
    {
     "name": "stdout",
     "output_type": "stream",
     "text": [
      "[[ 9.79676508 10.28457539]\n",
      " [ 9.6767669  10.01759738]\n",
      " [10.07299692  9.8741995 ]]\n",
      "[ 9.6767669  10.01759738]\n"
     ]
    }
   ],
   "source": [
    "import numpy as np\n",
    "\n",
    "a=np.random.normal(10,0.5,(3,2))\n",
    "print(a)\n",
    "\n",
    "print(a[1])"
   ]
  },
  {
   "cell_type": "markdown",
   "metadata": {},
   "source": [
    "切片用于获得数组的一个子集"
   ]
  },
  {
   "cell_type": "code",
   "execution_count": 21,
   "metadata": {},
   "outputs": [
    {
     "name": "stdout",
     "output_type": "stream",
     "text": [
      "[ 1  3  5  7  9 11 13 15 17 19]\n",
      "[3 5 7 9]\n",
      "[ 7  9 11 13 15 17 19]\n",
      "[ 1  3  5  7  9 11]\n"
     ]
    }
   ],
   "source": [
    "import numpy as np\n",
    "\n",
    "a=np.arange(1,20,2)\n",
    "print(a)\n",
    "\n",
    "b=a[1:5]\n",
    "print(b)\n",
    "c=a[3:]\n",
    "print(c)\n",
    "d=a[:6]\n",
    "print(d)"
   ]
  },
  {
   "cell_type": "code",
   "execution_count": 10,
   "metadata": {},
   "outputs": [
    {
     "name": "stdout",
     "output_type": "stream",
     "text": [
      "[[0.35351037 0.63593011 0.25701011 0.29006054]\n",
      " [0.35280905 0.86882149 0.71299562 0.94354271]\n",
      " [0.55272915 0.10602356 0.03780729 0.98643894]\n",
      " [0.70512566 0.79338172 0.18844875 0.97708898]\n",
      " [0.78516071 0.02090777 0.88321867 0.90712425]]\n",
      "[[0.35351037 0.25701011]\n",
      " [0.55272915 0.03780729]\n",
      " [0.78516071 0.88321867]]\n"
     ]
    }
   ],
   "source": [
    "#对于高维数组也是同样的\n",
    "import numpy as np \n",
    "\n",
    "a=np.random.rand(5,4)\n",
    "print(a)\n",
    "\n",
    "b=a[::2,::2]\n",
    "print(b)"
   ]
  },
  {
   "cell_type": "code",
   "execution_count": 17,
   "metadata": {},
   "outputs": [
    {
     "name": "stdout",
     "output_type": "stream",
     "text": [
      "[ 6  6 10  8]\n",
      "[[2 0 0 1 1 2 0]\n",
      " [0 2 1 2 1 0 1]\n",
      " [0 0 0 1 0 0 1]\n",
      " [1 0 1 0 1 1 0]\n",
      " [0 1 0 0 2 2 0]\n",
      " [1 0 1 2 0 0 0]\n",
      " [2 0 0 0 0 0 0]\n",
      " [0 1 0 1 1 0 0]]\n",
      "[1 0 0]\n"
     ]
    }
   ],
   "source": [
    "# 索引数组\n",
    "\n",
    "import numpy as np\n",
    "\n",
    "a=np.arange(2,20,2)\n",
    "b=a[[2,2,4,3]]\n",
    "print(b)\n",
    "\n",
    "#对于高维数组同样如此\n",
    "\n",
    "c=np.random.poisson(0.6,(8,7))\n",
    "print(c)\n",
    "d=c[[0,2,3],[3,4,3]]\n",
    "print(d)"
   ]
  },
  {
   "cell_type": "markdown",
   "metadata": {},
   "source": [
    "# 6. 数据的保存与加载\n",
    "\n",
    ">在numpy中有三个格式的文件进行数组的存取与加载：\n",
    "> - txt 或者 csv 文件\n",
    "> - npy 或者 npz 文件\n",
    "> - hdf5 文件\n",
    "\n",
    "- np.savetext与np.loadtext\n",
    "- np.tofile与np.fromfile\n",
    "- np.save与np.load"
   ]
  },
  {
   "cell_type": "markdown",
   "metadata": {},
   "source": [
    "## np.loadtext与np.savetext用户读取.csv文件或.txt文件"
   ]
  },
  {
   "cell_type": "code",
   "execution_count": 3,
   "metadata": {},
   "outputs": [
    {
     "name": "stdout",
     "output_type": "stream",
     "text": [
      "[[ 0  1  2  3  4]\n",
      " [ 5  6  7  8  9]\n",
      " [10 11 12 13 14]\n",
      " [15 16 17 18 19]]\n",
      "[[ 0  1  2  3  4]\n",
      " [ 5  6  7  8  9]\n",
      " [10 11 12 13 14]\n",
      " [15 16 17 18 19]]\n",
      "[[ 0  1  2  3  4]\n",
      " [ 5  6  7  8  9]\n",
      " [10 11 12 13 14]\n",
      " [15 16 17 18 19]]\n"
     ]
    }
   ],
   "source": [
    "import numpy as np\n",
    "\n",
    "a = np.array(range(20)).reshape((4, 5))\n",
    "print(a)\n",
    "\n",
    "# 后缀改为 .txt 一样\n",
    "filename = 'a.csv'\n",
    "# 写文件\n",
    "np.savetxt(filename, a, fmt='%d', delimiter=',')\n",
    "\n",
    "# 读文件\n",
    "b = np.loadtxt(filename, dtype=np.int32, delimiter=',')\n",
    "print(b)\n",
    "\n",
    "print(b.reshape(b.shape[0],-1))#cannot understand"
   ]
  },
  {
   "cell_type": "markdown",
   "metadata": {},
   "source": [
    "**缺点：**\n",
    "\n",
    "- 只能保存一维和二维 numpy 数组，当 numpy 数组 a 有多维时，[需要将其 a.reshape((a.shape\\[0\\], -1)) 后才能用这种方式保存.]\n",
    "- 不能追加保存，即每次 np.savetxt() 都会覆盖之前的内容。"
   ]
  },
  {
   "cell_type": "markdown",
   "metadata": {},
   "source": [
    "### np.save与np.load(.npy文件)\n",
    "\n",
    "**优点：**\n",
    "\n",
    "- npy 文件可以保存任意维度的 numpy 数组，不限于一维和二维；\n",
    "- npy 保存了 numpy 数组的结构，保存的时候是什么 shape 和 dtype，取出来时就是什么样的 shape 和 dtype。\n",
    "\n",
    "\n",
    "**缺点：**\n",
    "\n",
    "- 只能保存一个 numpy 数组，每次保存会覆盖掉之前文件中存在的内容（如果有的话）。"
   ]
  },
  {
   "cell_type": "code",
   "execution_count": 4,
   "metadata": {},
   "outputs": [
    {
     "name": "stdout",
     "output_type": "stream",
     "text": [
      "[[[ 0  1  2  3  4]\n",
      "  [ 5  6  7  8  9]]\n",
      "\n",
      " [[10 11 12 13 14]\n",
      "  [15 16 17 18 19]]]\n",
      "[[[ 0  1  2  3  4]\n",
      "  [ 5  6  7  8  9]]\n",
      "\n",
      " [[10 11 12 13 14]\n",
      "  [15 16 17 18 19]]]\n",
      "(2, 2, 5)\n"
     ]
    }
   ],
   "source": [
    "import numpy as np\n",
    "\n",
    "a = np.array(range(20)).reshape((2, 2, 5))\n",
    "print(a)\n",
    "\n",
    "filename = 'a.npy'\n",
    "# 写文件\n",
    "np.save(filename, a)\n",
    "\n",
    "# 读文件\n",
    "b = np.load(filename)\n",
    "print(b)\n",
    "print(b.shape)"
   ]
  },
  {
   "cell_type": "markdown",
   "metadata": {},
   "source": [
    "## 如果想将多个数据存入到一个文件，这个时候使用.npz压缩文件\n",
    "\n",
    "- np.savez与np.load\n",
    "\n",
    "savez函数的第一个参数是文件名，其后的参数都是需要保存的数组，也可以使用关键字参数为数组起一个名字，非关键字参数传递的数组会自动起名为arr_0, arr_1, ...。savez函数输出的是一个压缩文件(扩展名为npz)，其中每个文件都是一个save函数保存的npy文件，文件名对应于数组名。load函数自动识别npz文件，并且返回一个类似于字典的对象，可以通过数组名作为关键字获取数组的内容："
   ]
  },
  {
   "cell_type": "code",
   "execution_count": 5,
   "metadata": {},
   "outputs": [
    {
     "name": "stdout",
     "output_type": "stream",
     "text": [
      "array a:\n",
      "[[1 2 3]\n",
      " [4 5 6]]\n",
      "array b:\n",
      "[0.  0.1 0.2 0.3 0.4 0.5 0.6 0.7 0.8 0.9]\n",
      "array c:\n",
      "[0.         0.09983342 0.19866933 0.29552021 0.38941834 0.47942554\n",
      " 0.56464247 0.64421769 0.71735609 0.78332691]\n"
     ]
    }
   ],
   "source": [
    "a = np.array([[1,2,3],[4,5,6]])\n",
    "b = np.arange(0, 1.0, 0.1)\n",
    "c = np.sin(b)\n",
    "np.savez(\"result.npz\", a, b, sin_array = c)\n",
    "r = np.load(\"result.npz\")\n",
    "print(\"array a:\")\n",
    "print(r[\"arr_0\"]) # 数组a\n",
    "\n",
    "print(\"array b:\")\n",
    "print(r[\"arr_1\"]) # 数组b\n",
    "\n",
    "print(\"array c:\")\n",
    "print(r[\"sin_array\"]) # 数组c\n"
   ]
  },
  {
   "cell_type": "markdown",
   "metadata": {},
   "source": [
    "## 备注：如果你用解压软件打开result.npz文件的话，会发现其中有三个文件：arr_0.npy， arr_1.npy， sin_array.npy，其中分别保存着数组a, b, c的内容。"
   ]
  },
  {
   "cell_type": "code",
   "execution_count": 8,
   "metadata": {},
   "outputs": [],
   "source": [
    "import numpy as np\n",
    "\n",
    "np.loadtxt?"
   ]
  },
  {
   "cell_type": "markdown",
   "metadata": {},
   "source": [
    "## 7. Numpy中的统计模块\n",
    "\n",
    "- np.amin(), np.amax()\n",
    "\n",
    "- np.ptp()\n",
    "\n",
    "- np.percentile()\n",
    "\n",
    "- np.median()\n",
    "\n",
    "- np.mean()\n",
    "\n",
    "- np.average()\n",
    "\n",
    "- np.std(), np.var()\n",
    "\n",
    "- np.sum()"
   ]
  },
  {
   "cell_type": "code",
   "execution_count": 5,
   "metadata": {},
   "outputs": [
    {
     "name": "stdout",
     "output_type": "stream",
     "text": [
      "[[ 0.36402826  0.70381959  2.25050438 -0.30092241  0.30840146]\n",
      " [-0.48127056 -1.65429281  0.07762795 -0.17812492  0.16632006]\n",
      " [ 0.77056925 -0.16808885 -0.97221617 -0.21449733  1.11756943]]\n",
      "[-0.48127056 -1.65429281 -0.97221617 -0.30092241  0.16632006] [-2.29366031 -0.84196155 -2.35968708]\n",
      "-1.6542928126322356\n",
      "[ 0.77056925  0.70381959  2.25050438 -0.17812492  1.11756943]\n",
      "[2.25050438 0.16632006 1.11756943]\n",
      "2.2505043828486992\n"
     ]
    }
   ],
   "source": [
    "# 统计数组中的最大值与最小值\n",
    "# np.amin()与np.amax()\n",
    "\n",
    "import numpy as np\n",
    "\n",
    "a=np.random.randn(3,5)\n",
    "print(a)\n",
    "\n",
    "acolmin=np.amin(a,0)\n",
    "arowmin=np.amin(a,1)\n",
    "print(acolmin,arommin)\n",
    "print(np.amin(a))\n",
    "\n",
    "acolmax=np.amax(a,0)\n",
    "arowmax=np.amax(a,1)\n",
    "amax=np.amax(a)\n",
    "print(acolmax)\n",
    "print(arowmax)\n",
    "print(amax)\n"
   ]
  },
  {
   "cell_type": "code",
   "execution_count": 7,
   "metadata": {},
   "outputs": [
    {
     "name": "stdout",
     "output_type": "stream",
     "text": [
      "[[ 3.40090347  7.4749965   8.99551016  7.52687275]\n",
      " [ 9.03826786  7.42950996 10.16626793  5.39218498]\n",
      " [ 9.98843583  8.13021606  9.5870617   6.85360748]]\n",
      "6.7653644634076855\n"
     ]
    }
   ],
   "source": [
    "# 计算数组中元素的偏差\n",
    "\n",
    "import numpy as np\n",
    "\n",
    "a=np.random.normal(8,2,(3,4))\n",
    "print(a)\n",
    "\n",
    "print(np.ptp(a))"
   ]
  },
  {
   "cell_type": "code",
   "execution_count": 9,
   "metadata": {},
   "outputs": [
    {
     "name": "stdout",
     "output_type": "stream",
     "text": [
      "[[29 19 11 19]\n",
      " [10 15 16 21]\n",
      " [16 17 13 18]]\n",
      "[10.018 15.006 11.006 18.003]\n",
      "[11.036  10.0225 13.0135]\n",
      "10.0165\n"
     ]
    }
   ],
   "source": [
    "# 计算数组中的分位数\n",
    "\n",
    "import numpy as np\n",
    "\n",
    "a=np.random.randint(10,30,(3,4))\n",
    "print(a)\n",
    "\n",
    "#percentile(a,q,aixes),根据轴来取分位数\n",
    "\n",
    "quar=np.percentile(a,0.15,0)\n",
    "quarcol=np.percentile(a,0.15,1)\n",
    "quara=np.percentile(a,0.15)\n",
    "\n",
    "print(quar)\n",
    "print(quarcol)\n",
    "print(quara)"
   ]
  },
  {
   "cell_type": "code",
   "execution_count": 5,
   "metadata": {},
   "outputs": [
    {
     "name": "stdout",
     "output_type": "stream",
     "text": [
      "[[52 46 51 55]\n",
      " [44 54 41 46]\n",
      " [47 54 55 49]]\n",
      "49.5\n",
      "[47.66666667 51.33333333 49.         50.        ]\n",
      "[51.   46.25 51.25]\n"
     ]
    }
   ],
   "source": [
    "#mean 计算数组中的平均数，同样实现的包括整个数组，及坐标轴两个维度\n",
    "\n",
    "import numpy as np\n",
    "\n",
    "a=np.random.binomial(100,0.5,(3,4))\n",
    "print(a)\n",
    "\n",
    "amean=np.mean(a)\n",
    "cmean=np.mean(a,0)\n",
    "rmean=np.mean(a,1)\n",
    "print(amean)\n",
    "print(cmean)\n",
    "print(rmean)\n",
    "\n",
    "\n"
   ]
  },
  {
   "cell_type": "code",
   "execution_count": 8,
   "metadata": {},
   "outputs": [
    {
     "name": "stdout",
     "output_type": "stream",
     "text": [
      "2.5\n",
      "2.0\n"
     ]
    }
   ],
   "source": [
    "# average(),计算加权平均数，如过没有设定权值，作用和mean函数相同。\n",
    "\n",
    "import numpy as np \n",
    "\n",
    "a=np.array([1,2,3,4])\n",
    "weights=[4,3,2,1]\n",
    "amean=np.average(a)\n",
    "print(amean)\n",
    "ave=np.average(a,weights=weights)\n",
    "print(ave)\n"
   ]
  },
  {
   "cell_type": "code",
   "execution_count": 11,
   "metadata": {},
   "outputs": [
    {
     "name": "stdout",
     "output_type": "stream",
     "text": [
      "[[130 127 195 146]\n",
      " [196 182 146 141]\n",
      " [189 190 159 171]]\n",
      "24.807033052924506\n",
      "[29.60105103 28.00396797 20.72572208 13.12334646]\n",
      "[27.24426545 23.34925052 12.96871235]\n",
      "615.3888888888889\n",
      "[876.22222222 784.22222222 429.55555556 172.22222222]\n",
      "[742.25   545.1875 168.1875]\n"
     ]
    }
   ],
   "source": [
    "#计算数据的标准差与方差\n",
    "\n",
    "import numpy as np \n",
    "\n",
    "a=np.random.randint(100,200,(3,4))\n",
    "print(a)\n",
    "\n",
    "print(np.std(a))\n",
    "print(np.std(a,0))\n",
    "print(np.std(a,1))\n",
    "\n",
    "print(np.var(a))\n",
    "print(np.var(a,0))\n",
    "print(np.var(a,1))\n"
   ]
  },
  {
   "cell_type": "code",
   "execution_count": 13,
   "metadata": {},
   "outputs": [
    {
     "name": "stdout",
     "output_type": "stream",
     "text": [
      "[10 30 50 70]\n",
      "160\n"
     ]
    }
   ],
   "source": [
    "#统计元素的和\n",
    "\n",
    "import numpy as np \n",
    "\n",
    "a=np.arange(10,90,20)\n",
    "print(a)\n",
    "print(np.sum(a))"
   ]
  },
  {
   "cell_type": "markdown",
   "metadata": {},
   "source": [
    "## 8. Numpy中的随机数模块\n",
    "\n",
    "> numpy.random模块提供了大量的随机数模块，是对python中随机数模块的一个补充。"
   ]
  },
  {
   "cell_type": "markdown",
   "metadata": {},
   "source": [
    "## 8.1 基本的随机数模块\n",
    "\n",
    "- np.rand():产生指定形状的0-1的随机数组，如果在参数没有指定形状，返回一个0-1的随机数；\n",
    "- np.randint(low,high,size)：返回指定形状的整数数组\n",
    "- np.randn()：返回指定形状的满足标准正态分布的随机数组"
   ]
  },
  {
   "cell_type": "code",
   "execution_count": 10,
   "metadata": {},
   "outputs": [
    {
     "name": "stdout",
     "output_type": "stream",
     "text": [
      "example for np.rand()\n",
      "[[0.90746712 0.09566252]\n",
      " [0.52647468 0.80728381]]\n",
      "0.1801190735101944\n"
     ]
    }
   ],
   "source": [
    "import numpy as np\n",
    "\n",
    "#example for np.rand()\n",
    "a=np.random.rand(2,2)\n",
    "b=np.random.rand()\n",
    "print(\"example for np.rand()\")\n",
    "print(a)\n",
    "print(b)"
   ]
  },
  {
   "cell_type": "code",
   "execution_count": 12,
   "metadata": {},
   "outputs": [
    {
     "name": "stdout",
     "output_type": "stream",
     "text": [
      "[[65 70]\n",
      " [35 69]\n",
      " [51 43]]\n",
      "10\n"
     ]
    }
   ],
   "source": [
    "import numpy as np\n",
    "\n",
    "# example for randint\n",
    "a=np.random.randint(10,100,(3,2))\n",
    "b=np.random.randint(10,20)\n",
    "print(a)\n",
    "print(b)"
   ]
  },
  {
   "cell_type": "code",
   "execution_count": 13,
   "metadata": {},
   "outputs": [
    {
     "name": "stdout",
     "output_type": "stream",
     "text": [
      "[[-1.22090716  0.03912022]\n",
      " [ 0.19627074 -0.02352227]\n",
      " [ 0.69597174 -1.07042731]]\n",
      "0.41194610561549144\n"
     ]
    }
   ],
   "source": [
    "import numpy as np\n",
    "# example for randn\n",
    "a=np.random.randn(3,2)\n",
    "b=np.random.randn()\n",
    "print(a)\n",
    "print(b)"
   ]
  },
  {
   "cell_type": "markdown",
   "metadata": {},
   "source": [
    "## 8.2 与分布相关的函数\n",
    "\n",
    "- 正态分布：np.normal\n",
    "- 均匀分布: np.uniform\n",
    "- 泊松分布: np.poisson\n",
    "- 二项分布: np.binomial"
   ]
  },
  {
   "cell_type": "code",
   "execution_count": 15,
   "metadata": {},
   "outputs": [
    {
     "name": "stdout",
     "output_type": "stream",
     "text": [
      "[[3.4036182  3.20130289 3.03363136 1.98764307]\n",
      " [3.64322258 2.96867478 3.03491612 2.58879942]\n",
      " [3.02271349 2.66300012 2.18099623 3.2102186 ]\n",
      " [3.55806576 2.82535357 2.54993117 2.8015782 ]\n",
      " [3.06369096 2.5186431  2.03847707 3.22091911]]\n"
     ]
    }
   ],
   "source": [
    "# 正态分布\n",
    "import numpy as np\n",
    "\n",
    "a=np.random.normal(3,0.5,(5,4))\n",
    "print(a)"
   ]
  },
  {
   "cell_type": "code",
   "execution_count": 19,
   "metadata": {},
   "outputs": [
    {
     "name": "stdout",
     "output_type": "stream",
     "text": [
      "[[34.03203933 73.74383428]\n",
      " [46.06550913 88.83287068]\n",
      " [39.44442484 72.18293373]]\n"
     ]
    }
   ],
   "source": [
    "# 均匀分布\n",
    "import numpy as np\n",
    "\n",
    "a=np.random.uniform(10,100,(3,2))\n",
    "print(a)"
   ]
  },
  {
   "cell_type": "markdown",
   "metadata": {},
   "source": [
    "泊松分布，$\\lambda$为时间发生的概率"
   ]
  },
  {
   "cell_type": "code",
   "execution_count": 21,
   "metadata": {},
   "outputs": [
    {
     "name": "stdout",
     "output_type": "stream",
     "text": [
      "[[1 1]\n",
      " [0 0]\n",
      " [0 0]]\n"
     ]
    }
   ],
   "source": [
    "import numpy as np\n",
    "a=np.random.poisson(0.5,(3,2))\n",
    "print(a)"
   ]
  },
  {
   "cell_type": "code",
   "execution_count": 23,
   "metadata": {},
   "outputs": [
    {
     "name": "stdout",
     "output_type": "stream",
     "text": [
      "[[30 33]\n",
      " [24 30]\n",
      " [37 24]]\n"
     ]
    }
   ],
   "source": [
    "#二项分布\n",
    "import numpy as np\n",
    "\n",
    "#np.random.binomial(n,p,size)\n",
    "a=np.random.binomial(100,0.3,(3,2))\n",
    "print(a)"
   ]
  },
  {
   "cell_type": "markdown",
   "metadata": {},
   "source": [
    "## 8.3 随机选择函数\n",
    "\n",
    "- np.shuffle(a):随机打乱数组的顺序,不改变原数组\n",
    "- np.permuation(a)：随机打乱数组顺序，改变原数组\n",
    "- np.choice(a,[repalce,size,p]):在一维数组a中以概率p选择size的数组，replace表示可以重复使用数组中的元素"
   ]
  },
  {
   "cell_type": "code",
   "execution_count": 27,
   "metadata": {},
   "outputs": [
    {
     "name": "stdout",
     "output_type": "stream",
     "text": [
      "[[-0.88127503 -1.60082693 -1.15999711  0.20979783]\n",
      " [-0.05956742 -1.59053033  0.42733685  0.20217797]\n",
      " [ 1.39270084 -1.08551503  1.33925895  0.5899807 ]\n",
      " [-0.75668636 -0.23104545 -0.5266901  -0.46927937]\n",
      " [ 0.82491959 -1.02519687 -0.97925734  0.03891436]]\n",
      "[[ 1.39270084 -1.08551503  1.33925895  0.5899807 ]\n",
      " [-0.75668636 -0.23104545 -0.5266901  -0.46927937]\n",
      " [-0.05956742 -1.59053033  0.42733685  0.20217797]\n",
      " [ 0.82491959 -1.02519687 -0.97925734  0.03891436]\n",
      " [-0.88127503 -1.60082693 -1.15999711  0.20979783]]\n",
      "None\n",
      "[[ 1.39270084 -1.08551503  1.33925895  0.5899807 ]\n",
      " [-0.75668636 -0.23104545 -0.5266901  -0.46927937]\n",
      " [-0.05956742 -1.59053033  0.42733685  0.20217797]\n",
      " [ 0.82491959 -1.02519687 -0.97925734  0.03891436]\n",
      " [-0.88127503 -1.60082693 -1.15999711  0.20979783]]\n",
      "[10 12 14 16 18]\n",
      "[12 16 18 14 16]\n"
     ]
    }
   ],
   "source": [
    "import numpy as np\n",
    "\n",
    "a=np.random.randn(5,4)\n",
    "print(a)\n",
    "\n",
    "b=np.random.shuffle(a)\n",
    "print(a)\n",
    "print(b)\n",
    "\n",
    "np.random.permutation(a)\n",
    "print(a)\n",
    "\n",
    "c=np.arange(10,20,2)\n",
    "print(c)\n",
    "d=np.random.choice(c,size=5)\n",
    "print(d)\n"
   ]
  },
  {
   "cell_type": "code",
   "execution_count": 1,
   "metadata": {},
   "outputs": [],
   "source": [
    "import numpy as np\n",
    "\n",
    "a=np.linspace(10,20,30)"
   ]
  },
  {
   "cell_type": "code",
   "execution_count": 2,
   "metadata": {},
   "outputs": [
    {
     "name": "stdout",
     "output_type": "stream",
     "text": [
      "[10.         10.34482759 10.68965517 11.03448276 11.37931034 11.72413793\n",
      " 12.06896552 12.4137931  12.75862069 13.10344828 13.44827586 13.79310345\n",
      " 14.13793103 14.48275862 14.82758621 15.17241379 15.51724138 15.86206897\n",
      " 16.20689655 16.55172414 16.89655172 17.24137931 17.5862069  17.93103448\n",
      " 18.27586207 18.62068966 18.96551724 19.31034483 19.65517241 20.        ]\n"
     ]
    }
   ],
   "source": [
    "print(a)"
   ]
  },
  {
   "cell_type": "code",
   "execution_count": 3,
   "metadata": {},
   "outputs": [
    {
     "data": {
      "text/plain": [
       "array([14.82758621, 15.17241379, 15.51724138, 15.86206897, 16.20689655,\n",
       "       16.55172414, 16.89655172, 17.24137931, 17.5862069 , 17.93103448,\n",
       "       18.27586207, 18.62068966, 18.96551724, 19.31034483, 19.65517241,\n",
       "       20.        ])"
      ]
     },
     "execution_count": 3,
     "metadata": {},
     "output_type": "execute_result"
    }
   ],
   "source": [
    "a[a>14.8]"
   ]
  },
  {
   "cell_type": "code",
   "execution_count": null,
   "metadata": {},
   "outputs": [],
   "source": []
  }
 ],
 "metadata": {
  "kernelspec": {
   "display_name": "Python 3",
   "language": "python",
   "name": "python3"
  },
  "language_info": {
   "codemirror_mode": {
    "name": "ipython",
    "version": 3
   },
   "file_extension": ".py",
   "mimetype": "text/x-python",
   "name": "python",
   "nbconvert_exporter": "python",
   "pygments_lexer": "ipython3",
   "version": "3.7.3"
  }
 },
 "nbformat": 4,
 "nbformat_minor": 2
}
